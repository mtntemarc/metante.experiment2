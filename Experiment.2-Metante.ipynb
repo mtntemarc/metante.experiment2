{
 "cells": [
  {
   "cell_type": "code",
   "execution_count": 2,
   "id": "a9143f54-8542-4ef5-8bf2-7492dd3c3c97",
   "metadata": {},
   "outputs": [
    {
     "name": "stdout",
     "output_type": "stream",
     "text": [
      "Original Array:\n",
      " [[0.17566305 0.8282231  0.86569971 0.43591808 0.14939429]\n",
      " [0.17773708 0.60094529 0.17280191 0.99337313 0.90352959]\n",
      " [0.90370288 0.51204365 0.7161868  0.82571235 0.73991685]\n",
      " [0.09378146 0.61808606 0.57508604 0.20795909 0.54832408]\n",
      " [0.01320675 0.52606646 0.97550332 0.68995181 0.41262693]]\n",
      "\n",
      "Normalized Array:\n",
      " [[-1.24986834  0.94977069  1.07609624 -0.37260481 -1.33841467]\n",
      " [-1.24287724  0.18366626 -1.2595126   1.50645578  1.20361261]\n",
      " [ 1.20419674 -0.11600195  0.57212053  0.9413075   0.65210938]\n",
      " [-1.5258735   0.24144412  0.09650034 -1.14100536  0.00629153]\n",
      " [-1.79747344 -0.06873408  1.4462205   0.48368804 -0.45111427]]\n",
      "\n",
      "Loaded Normalized Array from File:\n",
      " [[-1.24986834  0.94977069  1.07609624 -0.37260481 -1.33841467]\n",
      " [-1.24287724  0.18366626 -1.2595126   1.50645578  1.20361261]\n",
      " [ 1.20419674 -0.11600195  0.57212053  0.9413075   0.65210938]\n",
      " [-1.5258735   0.24144412  0.09650034 -1.14100536  0.00629153]\n",
      " [-1.79747344 -0.06873408  1.4462205   0.48368804 -0.45111427]]\n"
     ]
    }
   ],
   "source": [
    "#Normalization Problem \n",
    "\n",
    "#Import Numpy Library\n",
    "import numpy as np\n",
    "\n",
    "#Start Program\n",
    "#Create 5x5 ndarray with random values\n",
    "X = np.random.rand(5, 5)\n",
    "\n",
    "#Calculate the element-wise mean and standard deviation\n",
    "mean_X = X.mean()\n",
    "std_X = X.std()\n",
    "\n",
    "#Check for standard deviation to avoid division by zero\n",
    "if std_X == 0:\n",
    "    print(\"Standard deviation is zero, normalization cannot be performed.\")\n",
    "else:\n",
    "    #Normalize Array \n",
    "    X_normalized = (X - mean_X) / std_X\n",
    "\n",
    "    #Save the normalized array to a .npy file\n",
    "    np.save('X_normalized.npy', X_normalized)\n",
    "\n",
    "    #Output: Original and Normalized Array\n",
    "    print(\"Original Array:\\n\", X)\n",
    "    print(\"\\nNormalized Array:\\n\", X_normalized)\n",
    "\n",
    "    #Load and verify the saved normalized array\n",
    "    loaded_X_normalized = np.load('X_normalized.npy')\n",
    "    print(\"\\nLoaded Normalized Array from File:\\n\", loaded_X_normalized)\n"
   ]
  },
  {
   "cell_type": "code",
   "execution_count": 8,
   "id": "d82b2f91-ce02-4400-a586-3bd0abd4ca20",
   "metadata": {},
   "outputs": [
    {
     "name": "stdout",
     "output_type": "stream",
     "text": [
      "10x10 Array of Squares of the First 100 Positive Integers:\n",
      " [[    1     4     9    16    25    36    49    64    81   100]\n",
      " [  121   144   169   196   225   256   289   324   361   400]\n",
      " [  441   484   529   576   625   676   729   784   841   900]\n",
      " [  961  1024  1089  1156  1225  1296  1369  1444  1521  1600]\n",
      " [ 1681  1764  1849  1936  2025  2116  2209  2304  2401  2500]\n",
      " [ 2601  2704  2809  2916  3025  3136  3249  3364  3481  3600]\n",
      " [ 3721  3844  3969  4096  4225  4356  4489  4624  4761  4900]\n",
      " [ 5041  5184  5329  5476  5625  5776  5929  6084  6241  6400]\n",
      " [ 6561  6724  6889  7056  7225  7396  7569  7744  7921  8100]\n",
      " [ 8281  8464  8649  8836  9025  9216  9409  9604  9801 10000]]\n",
      "\n",
      "Elements Divisible by 3:\n",
      " [   9   36   81  144  225  324  441  576  729  900 1089 1296 1521 1764\n",
      " 2025 2304 2601 2916 3249 3600 3969 4356 4761 5184 5625 6084 6561 7056\n",
      " 7569 8100 8649 9216 9801]\n"
     ]
    }
   ],
   "source": [
    "#Divisible by 3 Problem \n",
    "\n",
    "#Import Numpy Library\n",
    "import numpy as np  \n",
    "\n",
    "#Start Program\n",
    "#Create 10x10 ndarray of squares of integers from 1 to 100\n",
    "A = np.arange(1, 101)**2\n",
    "A = A.reshape((10, 10))  # Reshape into a 10x10 array\n",
    "\n",
    "#Output: 10x10 array\n",
    "print(\"10x10 Array of Squares of the First 100 Positive Integers:\\n\", A)\n",
    "\n",
    "#Determine elements divisible by 3 using modulo operation\n",
    "div_by_3 = A[A % 3 == 0]\n",
    "\n",
    "#Output: Elements divisible by 3\n",
    "print(\"\\nElements Divisible by 3:\\n\", div_by_3)\n",
    "\n",
    "#Check if there are no elements divisible by 3 (edge case)\n",
    "if div_by_3.size == 0:\n",
    "    print(\"\\nNo elements divisible by 3 were found in the array.\")\n",
    "else:\n",
    "    #Save results to a .npy file\n",
    "    np.save('div_by_3.npy', div_by_3)\n",
    "\n",
    "    \n"
   ]
  },
  {
   "cell_type": "code",
   "execution_count": null,
   "id": "e81a4b8e-43cd-4274-b8e2-a56183dbba96",
   "metadata": {},
   "outputs": [],
   "source": []
  }
 ],
 "metadata": {
  "kernelspec": {
   "display_name": "Python 3 (ipykernel)",
   "language": "python",
   "name": "python3"
  },
  "language_info": {
   "codemirror_mode": {
    "name": "ipython",
    "version": 3
   },
   "file_extension": ".py",
   "mimetype": "text/x-python",
   "name": "python",
   "nbconvert_exporter": "python",
   "pygments_lexer": "ipython3",
   "version": "3.12.4"
  }
 },
 "nbformat": 4,
 "nbformat_minor": 5
}
